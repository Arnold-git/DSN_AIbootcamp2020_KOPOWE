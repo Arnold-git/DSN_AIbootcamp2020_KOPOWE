{
  "nbformat": 4,
  "nbformat_minor": 0,
  "metadata": {
    "colab": {
      "name": "Random_Forest_Grid_Search",
      "provenance": []
    },
    "kernelspec": {
      "name": "python3",
      "display_name": "Python 3"
    }
  },
  "cells": [
    {
      "cell_type": "code",
      "metadata": {
        "id": "6lwR5ayDMUmu",
        "outputId": "72bdf6b7-bf16-4324-8f97-9d0d8340fee1",
        "colab": {
          "base_uri": "https://localhost:8080/",
          "height": 52
        }
      },
      "source": [
        "from google.colab import drive\n",
        "drive.mount('/content/drive')"
      ],
      "execution_count": null,
      "outputs": [
        {
          "output_type": "stream",
          "text": [
            "Mounted at /content/drive\n",
            "Drive already mounted at /content/drive; to attempt to forcibly remount, call drive.mount(\"/content/drive\", force_remount=True).\n"
          ],
          "name": "stdout"
        }
      ]
    },
    {
      "cell_type": "code",
      "metadata": {
        "id": "ux2h3tRwAnSq"
      },
      "source": [
        "import pandas as pd\n",
        "import numpy as np"
      ],
      "execution_count": null,
      "outputs": []
    },
    {
      "cell_type": "code",
      "metadata": {
        "id": "ZhuMXHLxA74T"
      },
      "source": [
        "train = pd.read_csv(\"/content/drive/My Drive/DSN AIBootcamp 2020/Train (1).csv\")\n",
        "\n",
        "test = pd.read_csv(\"/content/drive/My Drive/DSN AIBootcamp 2020/Test.csv\")\n",
        "\n",
        "\n",
        "sample_sub = pd.read_csv(\"/content/drive/My Drive/DSN AIBootcamp 2020/SampleSubmission.csv\")"
      ],
      "execution_count": null,
      "outputs": []
    },
    {
      "cell_type": "code",
      "metadata": {
        "id": "ls1rtRUSBGHO"
      },
      "source": [
        "def get_column_missing(df):\n",
        "    col = df.isnull().any()\n",
        "    missing_col = col[col== True].index\n",
        "    return missing_col"
      ],
      "execution_count": null,
      "outputs": []
    },
    {
      "cell_type": "code",
      "metadata": {
        "id": "NtZbSWDaBRa5",
        "outputId": "1bae990a-b778-4511-bcf7-7ced6c89e1c5",
        "colab": {
          "base_uri": "https://localhost:8080/",
          "height": 247
        }
      },
      "source": [
        "get_column_missing(train)"
      ],
      "execution_count": null,
      "outputs": [
        {
          "output_type": "execute_result",
          "data": {
            "text/plain": [
              "Index(['form_field1', 'form_field2', 'form_field3', 'form_field4',\n",
              "       'form_field5', 'form_field6', 'form_field7', 'form_field8',\n",
              "       'form_field9', 'form_field10', 'form_field11', 'form_field12',\n",
              "       'form_field13', 'form_field15', 'form_field16', 'form_field17',\n",
              "       'form_field18', 'form_field19', 'form_field20', 'form_field21',\n",
              "       'form_field22', 'form_field23', 'form_field24', 'form_field25',\n",
              "       'form_field26', 'form_field27', 'form_field28', 'form_field29',\n",
              "       'form_field30', 'form_field31', 'form_field32', 'form_field33',\n",
              "       'form_field34', 'form_field35', 'form_field36', 'form_field37',\n",
              "       'form_field38', 'form_field39', 'form_field40', 'form_field41',\n",
              "       'form_field42', 'form_field43', 'form_field44', 'form_field45',\n",
              "       'form_field46', 'form_field48', 'form_field49', 'form_field50'],\n",
              "      dtype='object')"
            ]
          },
          "metadata": {
            "tags": []
          },
          "execution_count": 7
        }
      ]
    },
    {
      "cell_type": "code",
      "metadata": {
        "id": "2MrvpVBhBaG0"
      },
      "source": [
        "train['form_field47'] = [1 if i == 'charge' else 0 for i in train['form_field47']]"
      ],
      "execution_count": null,
      "outputs": []
    },
    {
      "cell_type": "code",
      "metadata": {
        "id": "lmzGmCpPBgnT",
        "outputId": "f1e58f95-41f0-4a8d-d64c-c3da24cbf992",
        "colab": {
          "base_uri": "https://localhost:8080/",
          "height": 34
        }
      },
      "source": [
        "train['form_field47'].unique()"
      ],
      "execution_count": null,
      "outputs": [
        {
          "output_type": "execute_result",
          "data": {
            "text/plain": [
              "array([1, 0])"
            ]
          },
          "metadata": {
            "tags": []
          },
          "execution_count": 11
        }
      ]
    },
    {
      "cell_type": "code",
      "metadata": {
        "id": "PFPtHlveBkje"
      },
      "source": [
        "train['default_status'] = [1 if i == 'yes' else 0 for i in train['default_status']]"
      ],
      "execution_count": null,
      "outputs": []
    },
    {
      "cell_type": "code",
      "metadata": {
        "id": "pc7MhqrUBw9e",
        "outputId": "e7fe650a-76b7-45a7-c62d-458ecd7e2cc6",
        "colab": {
          "base_uri": "https://localhost:8080/",
          "height": 34
        }
      },
      "source": [
        "train['default_status'].unique()"
      ],
      "execution_count": null,
      "outputs": [
        {
          "output_type": "execute_result",
          "data": {
            "text/plain": [
              "array([0])"
            ]
          },
          "metadata": {
            "tags": []
          },
          "execution_count": 14
        }
      ]
    },
    {
      "cell_type": "code",
      "metadata": {
        "id": "gjeXPE_1Byr_"
      },
      "source": [
        "train = train.fillna(train.mean())"
      ],
      "execution_count": null,
      "outputs": []
    },
    {
      "cell_type": "code",
      "metadata": {
        "id": "whD_opcDB3bE"
      },
      "source": [
        "test['form_field47'] = [1 if i == 'charge' else 0 for i in test['form_field47']]"
      ],
      "execution_count": null,
      "outputs": []
    },
    {
      "cell_type": "code",
      "metadata": {
        "id": "dK8pbvmdCFW9"
      },
      "source": [
        "test = test.fillna(test.mean())"
      ],
      "execution_count": null,
      "outputs": []
    },
    {
      "cell_type": "code",
      "metadata": {
        "id": "ft4Od_0zCdrz"
      },
      "source": [
        "test = test.drop(\"Applicant_ID\", axis = 1)"
      ],
      "execution_count": null,
      "outputs": []
    },
    {
      "cell_type": "code",
      "metadata": {
        "id": "MqSl9M6YCJ6o"
      },
      "source": [
        "X = train.drop(columns = ['default_status', 'Applicant_ID'], axis = 1)\n",
        "\n",
        "y = train.default_status\n"
      ],
      "execution_count": null,
      "outputs": []
    },
    {
      "cell_type": "code",
      "metadata": {
        "id": "e3nS_MXGCO74"
      },
      "source": [
        "from sklearn.model_selection import train_test_split\n",
        "X_train, X_test, y_train, y_test = train_test_split(\n",
        " X, y, test_size=0.3, random_state=42)"
      ],
      "execution_count": null,
      "outputs": []
    },
    {
      "cell_type": "code",
      "metadata": {
        "id": "moiuvuQ6CVIL"
      },
      "source": [
        " from sklearn.ensemble import RandomForestClassifier\n",
        "\n",
        " clf = RandomForestClassifier(n_estimators = 100)"
      ],
      "execution_count": null,
      "outputs": []
    },
    {
      "cell_type": "code",
      "metadata": {
        "id": "R8z14tHICi3J"
      },
      "source": [
        "clf.fit(X_train, y_train)"
      ],
      "execution_count": null,
      "outputs": []
    },
    {
      "cell_type": "code",
      "metadata": {
        "id": "v3ks4hEDCqUo"
      },
      "source": [
        "parameters = {'n_estimators' : (50,70,90,100, 150, 200)\n",
        "              # , 'criterion' : ('gini', 'entropy')\n",
        "              , 'max_depth' : (3,5,7,9,10)\n",
        "              # , 'max_features' : ('auto', 'sqrt')\n",
        "              , 'learning_rate' : (0.1, 0.01, 0.001)\n",
        "              #, 'min_weight_fraction_leaf' : (0.0,0.1,0.2,0.3)\n",
        "             }"
      ],
      "execution_count": null,
      "outputs": []
    },
    {
      "cell_type": "code",
      "metadata": {
        "id": "3lybLFaEDs51"
      },
      "source": [
        "from sklearn.model_selection import GridSearchCV\n",
        "\n",
        "RF_grid  = GridSearchCV(RandomForestClassifier(n_jobs = -1, oob_score= False), param_grid = parameters, cv = 3, verbose = True)\n"
      ],
      "execution_count": null,
      "outputs": []
    },
    {
      "cell_type": "code",
      "metadata": {
        "id": "tlVIwU4DDvDQ",
        "outputId": "f152db4a-871e-404e-da68-9d4e624c0d41",
        "colab": {
          "base_uri": "https://localhost:8080/",
          "height": 52
        }
      },
      "source": [
        "\n",
        "RF_grid_model = RF_grid.fit(X_train, y_train)"
      ],
      "execution_count": null,
      "outputs": [
        {
          "output_type": "stream",
          "text": [
            "Fitting 3 folds for each of 360 candidates, totalling 1080 fits\n"
          ],
          "name": "stdout"
        },
        {
          "output_type": "stream",
          "text": [
            "[Parallel(n_jobs=1)]: Using backend SequentialBackend with 1 concurrent workers.\n"
          ],
          "name": "stderr"
        }
      ]
    },
    {
      "cell_type": "code",
      "metadata": {
        "id": "HWORQksTc89r"
      },
      "source": [
        "\n",
        "RF_grid_model.best_estimator_"
      ],
      "execution_count": null,
      "outputs": []
    },
    {
      "cell_type": "code",
      "metadata": {
        "id": "WI9phBsadpf2"
      },
      "source": [
        "RF_grid_model.best_score_"
      ],
      "execution_count": null,
      "outputs": []
    },
    {
      "cell_type": "code",
      "metadata": {
        "id": "Oso6DkKGdujS"
      },
      "source": [
        "RF_Model = RandomForestClassifier(bootstrap=True, ccp_alpha=0.0, class_weight=None,\n",
        "                       criterion='gini', max_depth=10, max_features='auto',\n",
        "                       max_leaf_nodes=None, max_samples=None,\n",
        "                       min_impurity_decrease=0.0, min_impurity_split=None,\n",
        "                       min_samples_leaf=1, min_samples_split=2,\n",
        "                       min_weight_fraction_leaf=0.0, n_estimators=90, n_jobs=-1,\n",
        "                       oob_score=False, random_state=None, verbose=0,\n",
        "                       warm_start=False)"
      ],
      "execution_count": null,
      "outputs": []
    },
    {
      "cell_type": "code",
      "metadata": {
        "id": "aRE79ewQeIA0",
        "outputId": "ce8502f0-ad0c-43f7-ce56-5024c2201c94",
        "colab": {
          "base_uri": "https://localhost:8080/",
          "height": 158
        }
      },
      "source": [
        "\n",
        "RF_Model.fit(X_train, y_train)"
      ],
      "execution_count": null,
      "outputs": [
        {
          "output_type": "execute_result",
          "data": {
            "text/plain": [
              "RandomForestClassifier(bootstrap=True, ccp_alpha=0.0, class_weight=None,\n",
              "                       criterion='gini', max_depth=10, max_features='auto',\n",
              "                       max_leaf_nodes=None, max_samples=None,\n",
              "                       min_impurity_decrease=0.0, min_impurity_split=None,\n",
              "                       min_samples_leaf=1, min_samples_split=2,\n",
              "                       min_weight_fraction_leaf=0.0, n_estimators=90, n_jobs=-1,\n",
              "                       oob_score=False, random_state=None, verbose=0,\n",
              "                       warm_start=False)"
            ]
          },
          "metadata": {
            "tags": []
          },
          "execution_count": 26
        }
      ]
    },
    {
      "cell_type": "code",
      "metadata": {
        "id": "_C5D9pTzeI8q",
        "outputId": "8dd07764-684f-425c-97a2-bb2117a7fc6a",
        "colab": {
          "base_uri": "https://localhost:8080/",
          "height": 34
        }
      },
      "source": [
        "RF_Model.score(X_train, y_train)"
      ],
      "execution_count": null,
      "outputs": [
        {
          "output_type": "execute_result",
          "data": {
            "text/plain": [
              "0.8490051020408164"
            ]
          },
          "metadata": {
            "tags": []
          },
          "execution_count": 27
        }
      ]
    },
    {
      "cell_type": "code",
      "metadata": {
        "id": "TNHK70dQeRcv",
        "outputId": "792440a3-9226-415f-e366-4b7346e9be7f",
        "colab": {
          "base_uri": "https://localhost:8080/",
          "height": 1000
        }
      },
      "source": [
        "\n",
        "best_feat = pd.DataFrame({'Features': X_train.columns,'Importance': RF_Model.feature_importances_})\n",
        "best_feat.sort_values('Importance', ascending = False)"
      ],
      "execution_count": null,
      "outputs": [
        {
          "output_type": "execute_result",
          "data": {
            "text/html": [
              "<div>\n",
              "<style scoped>\n",
              "    .dataframe tbody tr th:only-of-type {\n",
              "        vertical-align: middle;\n",
              "    }\n",
              "\n",
              "    .dataframe tbody tr th {\n",
              "        vertical-align: top;\n",
              "    }\n",
              "\n",
              "    .dataframe thead th {\n",
              "        text-align: right;\n",
              "    }\n",
              "</style>\n",
              "<table border=\"1\" class=\"dataframe\">\n",
              "  <thead>\n",
              "    <tr style=\"text-align: right;\">\n",
              "      <th></th>\n",
              "      <th>Features</th>\n",
              "      <th>Importance</th>\n",
              "    </tr>\n",
              "  </thead>\n",
              "  <tbody>\n",
              "    <tr>\n",
              "      <th>0</th>\n",
              "      <td>form_field1</td>\n",
              "      <td>0.136107</td>\n",
              "    </tr>\n",
              "    <tr>\n",
              "      <th>17</th>\n",
              "      <td>form_field18</td>\n",
              "      <td>0.058515</td>\n",
              "    </tr>\n",
              "    <tr>\n",
              "      <th>46</th>\n",
              "      <td>form_field47</td>\n",
              "      <td>0.047430</td>\n",
              "    </tr>\n",
              "    <tr>\n",
              "      <th>23</th>\n",
              "      <td>form_field24</td>\n",
              "      <td>0.046896</td>\n",
              "    </tr>\n",
              "    <tr>\n",
              "      <th>1</th>\n",
              "      <td>form_field2</td>\n",
              "      <td>0.046706</td>\n",
              "    </tr>\n",
              "    <tr>\n",
              "      <th>41</th>\n",
              "      <td>form_field42</td>\n",
              "      <td>0.044316</td>\n",
              "    </tr>\n",
              "    <tr>\n",
              "      <th>15</th>\n",
              "      <td>form_field16</td>\n",
              "      <td>0.034450</td>\n",
              "    </tr>\n",
              "    <tr>\n",
              "      <th>16</th>\n",
              "      <td>form_field17</td>\n",
              "      <td>0.029746</td>\n",
              "    </tr>\n",
              "    <tr>\n",
              "      <th>20</th>\n",
              "      <td>form_field21</td>\n",
              "      <td>0.028365</td>\n",
              "    </tr>\n",
              "    <tr>\n",
              "      <th>27</th>\n",
              "      <td>form_field28</td>\n",
              "      <td>0.027896</td>\n",
              "    </tr>\n",
              "    <tr>\n",
              "      <th>7</th>\n",
              "      <td>form_field8</td>\n",
              "      <td>0.026953</td>\n",
              "    </tr>\n",
              "    <tr>\n",
              "      <th>24</th>\n",
              "      <td>form_field25</td>\n",
              "      <td>0.025248</td>\n",
              "    </tr>\n",
              "    <tr>\n",
              "      <th>9</th>\n",
              "      <td>form_field10</td>\n",
              "      <td>0.024739</td>\n",
              "    </tr>\n",
              "    <tr>\n",
              "      <th>5</th>\n",
              "      <td>form_field6</td>\n",
              "      <td>0.021668</td>\n",
              "    </tr>\n",
              "    <tr>\n",
              "      <th>6</th>\n",
              "      <td>form_field7</td>\n",
              "      <td>0.019893</td>\n",
              "    </tr>\n",
              "    <tr>\n",
              "      <th>31</th>\n",
              "      <td>form_field32</td>\n",
              "      <td>0.019193</td>\n",
              "    </tr>\n",
              "    <tr>\n",
              "      <th>37</th>\n",
              "      <td>form_field38</td>\n",
              "      <td>0.018744</td>\n",
              "    </tr>\n",
              "    <tr>\n",
              "      <th>28</th>\n",
              "      <td>form_field29</td>\n",
              "      <td>0.018416</td>\n",
              "    </tr>\n",
              "    <tr>\n",
              "      <th>2</th>\n",
              "      <td>form_field3</td>\n",
              "      <td>0.016918</td>\n",
              "    </tr>\n",
              "    <tr>\n",
              "      <th>25</th>\n",
              "      <td>form_field26</td>\n",
              "      <td>0.016753</td>\n",
              "    </tr>\n",
              "    <tr>\n",
              "      <th>8</th>\n",
              "      <td>form_field9</td>\n",
              "      <td>0.016669</td>\n",
              "    </tr>\n",
              "    <tr>\n",
              "      <th>26</th>\n",
              "      <td>form_field27</td>\n",
              "      <td>0.016333</td>\n",
              "    </tr>\n",
              "    <tr>\n",
              "      <th>21</th>\n",
              "      <td>form_field22</td>\n",
              "      <td>0.015281</td>\n",
              "    </tr>\n",
              "    <tr>\n",
              "      <th>44</th>\n",
              "      <td>form_field45</td>\n",
              "      <td>0.014652</td>\n",
              "    </tr>\n",
              "    <tr>\n",
              "      <th>35</th>\n",
              "      <td>form_field36</td>\n",
              "      <td>0.013112</td>\n",
              "    </tr>\n",
              "    <tr>\n",
              "      <th>36</th>\n",
              "      <td>form_field37</td>\n",
              "      <td>0.012551</td>\n",
              "    </tr>\n",
              "    <tr>\n",
              "      <th>48</th>\n",
              "      <td>form_field49</td>\n",
              "      <td>0.012102</td>\n",
              "    </tr>\n",
              "    <tr>\n",
              "      <th>42</th>\n",
              "      <td>form_field43</td>\n",
              "      <td>0.011504</td>\n",
              "    </tr>\n",
              "    <tr>\n",
              "      <th>47</th>\n",
              "      <td>form_field48</td>\n",
              "      <td>0.010860</td>\n",
              "    </tr>\n",
              "    <tr>\n",
              "      <th>43</th>\n",
              "      <td>form_field44</td>\n",
              "      <td>0.010797</td>\n",
              "    </tr>\n",
              "    <tr>\n",
              "      <th>10</th>\n",
              "      <td>form_field11</td>\n",
              "      <td>0.010644</td>\n",
              "    </tr>\n",
              "    <tr>\n",
              "      <th>49</th>\n",
              "      <td>form_field50</td>\n",
              "      <td>0.010406</td>\n",
              "    </tr>\n",
              "    <tr>\n",
              "      <th>22</th>\n",
              "      <td>form_field23</td>\n",
              "      <td>0.010286</td>\n",
              "    </tr>\n",
              "    <tr>\n",
              "      <th>32</th>\n",
              "      <td>form_field33</td>\n",
              "      <td>0.010268</td>\n",
              "    </tr>\n",
              "    <tr>\n",
              "      <th>29</th>\n",
              "      <td>form_field30</td>\n",
              "      <td>0.009781</td>\n",
              "    </tr>\n",
              "    <tr>\n",
              "      <th>14</th>\n",
              "      <td>form_field15</td>\n",
              "      <td>0.009159</td>\n",
              "    </tr>\n",
              "    <tr>\n",
              "      <th>11</th>\n",
              "      <td>form_field12</td>\n",
              "      <td>0.008973</td>\n",
              "    </tr>\n",
              "    <tr>\n",
              "      <th>39</th>\n",
              "      <td>form_field40</td>\n",
              "      <td>0.008828</td>\n",
              "    </tr>\n",
              "    <tr>\n",
              "      <th>12</th>\n",
              "      <td>form_field13</td>\n",
              "      <td>0.008659</td>\n",
              "    </tr>\n",
              "    <tr>\n",
              "      <th>18</th>\n",
              "      <td>form_field19</td>\n",
              "      <td>0.008571</td>\n",
              "    </tr>\n",
              "    <tr>\n",
              "      <th>3</th>\n",
              "      <td>form_field4</td>\n",
              "      <td>0.007540</td>\n",
              "    </tr>\n",
              "    <tr>\n",
              "      <th>34</th>\n",
              "      <td>form_field35</td>\n",
              "      <td>0.007486</td>\n",
              "    </tr>\n",
              "    <tr>\n",
              "      <th>30</th>\n",
              "      <td>form_field31</td>\n",
              "      <td>0.007427</td>\n",
              "    </tr>\n",
              "    <tr>\n",
              "      <th>13</th>\n",
              "      <td>form_field14</td>\n",
              "      <td>0.007365</td>\n",
              "    </tr>\n",
              "    <tr>\n",
              "      <th>33</th>\n",
              "      <td>form_field34</td>\n",
              "      <td>0.006878</td>\n",
              "    </tr>\n",
              "    <tr>\n",
              "      <th>40</th>\n",
              "      <td>form_field41</td>\n",
              "      <td>0.006716</td>\n",
              "    </tr>\n",
              "    <tr>\n",
              "      <th>19</th>\n",
              "      <td>form_field20</td>\n",
              "      <td>0.006317</td>\n",
              "    </tr>\n",
              "    <tr>\n",
              "      <th>38</th>\n",
              "      <td>form_field39</td>\n",
              "      <td>0.004282</td>\n",
              "    </tr>\n",
              "    <tr>\n",
              "      <th>45</th>\n",
              "      <td>form_field46</td>\n",
              "      <td>0.004156</td>\n",
              "    </tr>\n",
              "    <tr>\n",
              "      <th>4</th>\n",
              "      <td>form_field5</td>\n",
              "      <td>0.003445</td>\n",
              "    </tr>\n",
              "  </tbody>\n",
              "</table>\n",
              "</div>"
            ],
            "text/plain": [
              "        Features  Importance\n",
              "0    form_field1    0.136107\n",
              "17  form_field18    0.058515\n",
              "46  form_field47    0.047430\n",
              "23  form_field24    0.046896\n",
              "1    form_field2    0.046706\n",
              "41  form_field42    0.044316\n",
              "15  form_field16    0.034450\n",
              "16  form_field17    0.029746\n",
              "20  form_field21    0.028365\n",
              "27  form_field28    0.027896\n",
              "7    form_field8    0.026953\n",
              "24  form_field25    0.025248\n",
              "9   form_field10    0.024739\n",
              "5    form_field6    0.021668\n",
              "6    form_field7    0.019893\n",
              "31  form_field32    0.019193\n",
              "37  form_field38    0.018744\n",
              "28  form_field29    0.018416\n",
              "2    form_field3    0.016918\n",
              "25  form_field26    0.016753\n",
              "8    form_field9    0.016669\n",
              "26  form_field27    0.016333\n",
              "21  form_field22    0.015281\n",
              "44  form_field45    0.014652\n",
              "35  form_field36    0.013112\n",
              "36  form_field37    0.012551\n",
              "48  form_field49    0.012102\n",
              "42  form_field43    0.011504\n",
              "47  form_field48    0.010860\n",
              "43  form_field44    0.010797\n",
              "10  form_field11    0.010644\n",
              "49  form_field50    0.010406\n",
              "22  form_field23    0.010286\n",
              "32  form_field33    0.010268\n",
              "29  form_field30    0.009781\n",
              "14  form_field15    0.009159\n",
              "11  form_field12    0.008973\n",
              "39  form_field40    0.008828\n",
              "12  form_field13    0.008659\n",
              "18  form_field19    0.008571\n",
              "3    form_field4    0.007540\n",
              "34  form_field35    0.007486\n",
              "30  form_field31    0.007427\n",
              "13  form_field14    0.007365\n",
              "33  form_field34    0.006878\n",
              "40  form_field41    0.006716\n",
              "19  form_field20    0.006317\n",
              "38  form_field39    0.004282\n",
              "45  form_field46    0.004156\n",
              "4    form_field5    0.003445"
            ]
          },
          "metadata": {
            "tags": []
          },
          "execution_count": 28
        }
      ]
    },
    {
      "cell_type": "code",
      "metadata": {
        "id": "JgVYXtZseYh5"
      },
      "source": [
        "y_pred = RF_Model.predict(test).astype(int)"
      ],
      "execution_count": null,
      "outputs": []
    },
    {
      "cell_type": "code",
      "metadata": {
        "id": "9wpiVNEYfnm7",
        "outputId": "29ed9e81-c3b8-4934-85b1-907af591a61c",
        "colab": {
          "base_uri": "https://localhost:8080/",
          "height": 34
        }
      },
      "source": [
        "y_pred.shape"
      ],
      "execution_count": null,
      "outputs": [
        {
          "output_type": "execute_result",
          "data": {
            "text/plain": [
              "(24000,)"
            ]
          },
          "metadata": {
            "tags": []
          },
          "execution_count": 32
        }
      ]
    },
    {
      "cell_type": "code",
      "metadata": {
        "id": "1axlwk0zfuUf",
        "outputId": "fb651662-90a0-4d62-d363-f69ee1301dda",
        "colab": {
          "base_uri": "https://localhost:8080/",
          "height": 34
        }
      },
      "source": [
        "y_pred"
      ],
      "execution_count": null,
      "outputs": [
        {
          "output_type": "execute_result",
          "data": {
            "text/plain": [
              "array([0, 0, 0, ..., 0, 1, 0])"
            ]
          },
          "metadata": {
            "tags": []
          },
          "execution_count": 33
        }
      ]
    },
    {
      "cell_type": "code",
      "metadata": {
        "id": "iInOVTpWgAfM",
        "outputId": "9029a625-498f-48ff-832f-8ec6269c0508",
        "colab": {
          "base_uri": "https://localhost:8080/",
          "height": 197
        }
      },
      "source": [
        "sample_sub.head()"
      ],
      "execution_count": null,
      "outputs": [
        {
          "output_type": "execute_result",
          "data": {
            "text/html": [
              "<div>\n",
              "<style scoped>\n",
              "    .dataframe tbody tr th:only-of-type {\n",
              "        vertical-align: middle;\n",
              "    }\n",
              "\n",
              "    .dataframe tbody tr th {\n",
              "        vertical-align: top;\n",
              "    }\n",
              "\n",
              "    .dataframe thead th {\n",
              "        text-align: right;\n",
              "    }\n",
              "</style>\n",
              "<table border=\"1\" class=\"dataframe\">\n",
              "  <thead>\n",
              "    <tr style=\"text-align: right;\">\n",
              "      <th></th>\n",
              "      <th>Applicant_ID</th>\n",
              "      <th>default_status</th>\n",
              "    </tr>\n",
              "  </thead>\n",
              "  <tbody>\n",
              "    <tr>\n",
              "      <th>0</th>\n",
              "      <td>Apcnt_1000032</td>\n",
              "      <td>1</td>\n",
              "    </tr>\n",
              "    <tr>\n",
              "      <th>1</th>\n",
              "      <td>Apcnt_1000048</td>\n",
              "      <td>1</td>\n",
              "    </tr>\n",
              "    <tr>\n",
              "      <th>2</th>\n",
              "      <td>Apcnt_1000052</td>\n",
              "      <td>1</td>\n",
              "    </tr>\n",
              "    <tr>\n",
              "      <th>3</th>\n",
              "      <td>Apcnt_1000076</td>\n",
              "      <td>1</td>\n",
              "    </tr>\n",
              "    <tr>\n",
              "      <th>4</th>\n",
              "      <td>Apcnt_1000080</td>\n",
              "      <td>1</td>\n",
              "    </tr>\n",
              "  </tbody>\n",
              "</table>\n",
              "</div>"
            ],
            "text/plain": [
              "    Applicant_ID  default_status\n",
              "0  Apcnt_1000032               1\n",
              "1  Apcnt_1000048               1\n",
              "2  Apcnt_1000052               1\n",
              "3  Apcnt_1000076               1\n",
              "4  Apcnt_1000080               1"
            ]
          },
          "metadata": {
            "tags": []
          },
          "execution_count": 34
        }
      ]
    },
    {
      "cell_type": "code",
      "metadata": {
        "id": "mMD863fpgIDE"
      },
      "source": [
        "sample_sub.default_status = y_pred"
      ],
      "execution_count": null,
      "outputs": []
    },
    {
      "cell_type": "code",
      "metadata": {
        "id": "gTUgBpFIgRj8"
      },
      "source": [
        "sample_sub.to_csv(\"sub3.csv\", index = False)"
      ],
      "execution_count": null,
      "outputs": []
    },
    {
      "cell_type": "code",
      "metadata": {
        "id": "iEIGPD2OgWa8"
      },
      "source": [
        "from sklearn import svm\n",
        "from sklearn.ensemble import RandomForestClassifier\n",
        "from sklearn.linear_model import LogisticRegression\n",
        "\n",
        "model_params = {\n",
        "    'svm': {\n",
        "        'model': svm.SVC(gamma='auto'),\n",
        "        'params' : {\n",
        "            'C': [1,10,20],\n",
        "            'kernel': ['rbf','linear']\n",
        "        }  \n",
        "    },\n",
        "    'random_forest': {\n",
        "        'model': RandomForestClassifier(),\n",
        "        'params' : {\n",
        "            'n_estimators': [10,30,50,70,90,100],\n",
        "            'max_depth' : [3,5,7,9,10],\n",
        "            'max_features' : ['auto', 'sqrt'],\n",
        "            'min_samples_split' : [2,4,6]\n",
        "\n",
        "\n",
        "        }\n",
        "    },\n",
        "    'logistic_regression' : {\n",
        "        'model': LogisticRegression(solver='liblinear',multi_class='auto'),\n",
        "        'params': {\n",
        "            'C': [1,5,10]\n",
        "        }\n",
        "    }\n",
        "}\n",
        "\n",
        "\n",
        "# {'n_estimators' : (10,30,50,70,90,100)\n",
        "#               , 'criterion' : ('gini', 'entropy')\n",
        "#               , 'max_depth' : (3,5,7,9,10)\n",
        "#               , 'max_features' : ('auto', 'sqrt')\n",
        "#               , 'min_samples_split' : (2,4,6)\n",
        "#               #, 'min_weight_fraction_leaf' : (0.0,0.1,0.2,0.3)\n",
        "#              }"
      ],
      "execution_count": null,
      "outputs": []
    },
    {
      "cell_type": "code",
      "metadata": {
        "id": "S-1psUpikmq1"
      },
      "source": [
        "\n",
        "scores = []\n",
        "\n",
        "for model_name, mp in model_params.items():\n",
        "    clf =  GridSearchCV(mp['model'], mp['params'], cv=5, return_train_score=False)\n",
        "    clf.fit(X_train, y_train)\n",
        "    scores.append({\n",
        "        'model': model_name,\n",
        "        'best_score': clf.best_score_,\n",
        "        'best_params': clf.best_params_\n",
        "    })\n",
        "    \n",
        "df = pd.DataFrame(scores,columns=['model','best_score','best_params'])\n",
        "df"
      ],
      "execution_count": null,
      "outputs": []
    },
    {
      "cell_type": "code",
      "metadata": {
        "id": "CPgDvj1ztoUo"
      },
      "source": [
        "from sklearn import svm"
      ],
      "execution_count": null,
      "outputs": []
    },
    {
      "cell_type": "code",
      "metadata": {
        "id": "sWSDdXm8u080",
        "outputId": "0d356394-4eac-45ad-8bd9-6bf98f71cf34",
        "colab": {
          "base_uri": "https://localhost:8080/",
          "height": 34
        }
      },
      "source": [
        "\n",
        "model = svm.SVC(kernel='rbf',C=30,gamma='auto')\n",
        "model.fit(X_train,y_train)\n",
        "model.score(X_test, y_test)"
      ],
      "execution_count": null,
      "outputs": [
        {
          "output_type": "execute_result",
          "data": {
            "text/plain": [
              "0.7547619047619047"
            ]
          },
          "metadata": {
            "tags": []
          },
          "execution_count": 24
        }
      ]
    },
    {
      "cell_type": "code",
      "metadata": {
        "id": "fNwUdaZSt2Wg"
      },
      "source": [
        "from sklearn.model_selection import cross_val_score\n",
        "kernels = ['rbf', 'linear']\n",
        "C = [1,10,20]\n",
        "avg_scores = {}\n",
        "for kval in kernels:\n",
        "    for cval in C:\n",
        "        cv_scores = cross_val_score(svm.SVC(kernel=kval,C=cval,gamma='auto'),X_train, y_train, cv=5)\n",
        "        avg_scores[kval + '_' + str(cval)] = np.average(cv_scores)\n",
        "\n",
        "avg_scores\n"
      ],
      "execution_count": null,
      "outputs": []
    },
    {
      "cell_type": "code",
      "metadata": {
        "id": "IFDOdwRlyMKW",
        "outputId": "d1ac1e39-f934-458e-f454-59b573f4aff4",
        "colab": {
          "base_uri": "https://localhost:8080/",
          "height": 105
        }
      },
      "source": [
        "pip install lightgbm"
      ],
      "execution_count": null,
      "outputs": [
        {
          "output_type": "stream",
          "text": [
            "Requirement already satisfied: lightgbm in /usr/local/lib/python3.6/dist-packages (2.2.3)\n",
            "Requirement already satisfied: scikit-learn in /usr/local/lib/python3.6/dist-packages (from lightgbm) (0.22.2.post1)\n",
            "Requirement already satisfied: scipy in /usr/local/lib/python3.6/dist-packages (from lightgbm) (1.4.1)\n",
            "Requirement already satisfied: numpy in /usr/local/lib/python3.6/dist-packages (from lightgbm) (1.18.5)\n",
            "Requirement already satisfied: joblib>=0.11 in /usr/local/lib/python3.6/dist-packages (from scikit-learn->lightgbm) (0.16.0)\n"
          ],
          "name": "stdout"
        }
      ]
    },
    {
      "cell_type": "code",
      "metadata": {
        "id": "fpklnKcWJ-LQ",
        "outputId": "e163913a-d291-44e7-9e1b-bd933719b82d",
        "colab": {
          "base_uri": "https://localhost:8080/",
          "height": 123
        }
      },
      "source": [
        "import lightgbm as lgb\n",
        "clf = lgb.LGBMClassifier(n_estimators=150)\n",
        "clf.fit(X_train, y_train)\n",
        "\n"
      ],
      "execution_count": null,
      "outputs": [
        {
          "output_type": "execute_result",
          "data": {
            "text/plain": [
              "LGBMClassifier(boosting_type='gbdt', class_weight=None, colsample_bytree=1.0,\n",
              "               importance_type='split', learning_rate=0.1, max_depth=-1,\n",
              "               min_child_samples=20, min_child_weight=0.001, min_split_gain=0.0,\n",
              "               n_estimators=150, n_jobs=-1, num_leaves=31, objective=None,\n",
              "               random_state=None, reg_alpha=0.0, reg_lambda=0.0, silent=True,\n",
              "               subsample=1.0, subsample_for_bin=200000, subsample_freq=0)"
            ]
          },
          "metadata": {
            "tags": []
          },
          "execution_count": 25
        }
      ]
    },
    {
      "cell_type": "code",
      "metadata": {
        "id": "JjNaAkIqKtVn"
      },
      "source": [
        "prediction = clf.predict_proba(test)"
      ],
      "execution_count": null,
      "outputs": []
    },
    {
      "cell_type": "code",
      "metadata": {
        "id": "Drsly-_TK0B_",
        "outputId": "0c4655b2-1098-40f0-a7e1-705eef41b820",
        "colab": {
          "base_uri": "https://localhost:8080/",
          "height": 141
        }
      },
      "source": [
        "prediction"
      ],
      "execution_count": null,
      "outputs": [
        {
          "output_type": "execute_result",
          "data": {
            "text/plain": [
              "array([[1.e+00, 1.e-15],\n",
              "       [1.e+00, 1.e-15],\n",
              "       [1.e+00, 1.e-15],\n",
              "       ...,\n",
              "       [1.e+00, 1.e-15],\n",
              "       [1.e+00, 1.e-15],\n",
              "       [1.e+00, 1.e-15]])"
            ]
          },
          "metadata": {
            "tags": []
          },
          "execution_count": 27
        }
      ]
    },
    {
      "cell_type": "code",
      "metadata": {
        "id": "z_0xaMdRK1zM",
        "outputId": "c8afd10c-fb71-441f-964b-58554b34a121",
        "colab": {
          "base_uri": "https://localhost:8080/",
          "height": 34
        }
      },
      "source": [
        "prediction = prediction[:, 1]"
      ],
      "execution_count": null,
      "outputs": [
        {
          "output_type": "execute_result",
          "data": {
            "text/plain": [
              "array([1.e-15, 1.e-15, 1.e-15, ..., 1.e-15, 1.e-15, 1.e-15])"
            ]
          },
          "metadata": {
            "tags": []
          },
          "execution_count": 28
        }
      ]
    },
    {
      "cell_type": "code",
      "metadata": {
        "id": "vB5W3YSSK9Ot"
      },
      "source": [
        "sample_sub.default_status = prediction"
      ],
      "execution_count": null,
      "outputs": []
    },
    {
      "cell_type": "code",
      "metadata": {
        "id": "S7pmeiMqLQN-"
      },
      "source": [
        "sample_sub.to_csv(\"sub4.csv\", index = False)"
      ],
      "execution_count": null,
      "outputs": []
    },
    {
      "cell_type": "code",
      "metadata": {
        "id": "XTIH3_QuNRMk"
      },
      "source": [
        "parameters = {'n_estimators' : (50,70,90,100, 150, 200)\n",
        "              # , 'criterion' : ('gini', 'entropy')\n",
        "              , 'max_depth' : (3,5,7,9,10)\n",
        "              # , 'max_features' : ('auto', 'sqrt')\n",
        "              , 'learning_rate' : (0.1, 0.01, 0.001)\n",
        "              #, 'min_weight_fraction_leaf' : (0.0,0.1,0.2,0.3)\n",
        "             }"
      ],
      "execution_count": null,
      "outputs": []
    },
    {
      "cell_type": "code",
      "metadata": {
        "id": "-GLq_Nm9La2X"
      },
      "source": [
        "from sklearn.model_selection import GridSearchCV\n",
        "\n",
        "Lgbm_grid  = GridSearchCV(lgb.LGBMClassifier(n_jobs = -1, oob_score= False), param_grid = parameters, cv = 3, verbose = True)"
      ],
      "execution_count": null,
      "outputs": []
    },
    {
      "cell_type": "code",
      "metadata": {
        "id": "7fhGCme2Nm-l",
        "outputId": "8179b6be-2205-4327-88fa-e40def386ef4",
        "colab": {
          "base_uri": "https://localhost:8080/",
          "height": 70
        }
      },
      "source": [
        "lgbm_grid_model = Lgbm_grid.fit(X_train, y_train)"
      ],
      "execution_count": null,
      "outputs": [
        {
          "output_type": "stream",
          "text": [
            "Fitting 3 folds for each of 90 candidates, totalling 270 fits\n"
          ],
          "name": "stdout"
        },
        {
          "output_type": "stream",
          "text": [
            "[Parallel(n_jobs=1)]: Using backend SequentialBackend with 1 concurrent workers.\n",
            "[Parallel(n_jobs=1)]: Done 270 out of 270 | elapsed:   48.7s finished\n"
          ],
          "name": "stderr"
        }
      ]
    },
    {
      "cell_type": "code",
      "metadata": {
        "id": "5abU7UQxNrG_",
        "outputId": "a4c5fb55-7e55-4cda-de08-ed4bb668f790",
        "colab": {
          "base_uri": "https://localhost:8080/",
          "height": 34
        }
      },
      "source": [
        "lgbm_grid_model.best_score_"
      ],
      "execution_count": null,
      "outputs": [
        {
          "output_type": "execute_result",
          "data": {
            "text/plain": [
              "1.0"
            ]
          },
          "metadata": {
            "tags": []
          },
          "execution_count": 37
        }
      ]
    },
    {
      "cell_type": "code",
      "metadata": {
        "id": "YZy0IXVfOxm1",
        "outputId": "aaa10a10-097a-4857-dcd1-201a2a643917",
        "colab": {
          "base_uri": "https://localhost:8080/",
          "height": 141
        }
      },
      "source": [
        "lgbm_grid_model.best_estimator_"
      ],
      "execution_count": null,
      "outputs": [
        {
          "output_type": "execute_result",
          "data": {
            "text/plain": [
              "LGBMClassifier(boosting_type='gbdt', class_weight=None, colsample_bytree=1.0,\n",
              "               importance_type='split', learning_rate=0.1, max_depth=3,\n",
              "               min_child_samples=20, min_child_weight=0.001, min_split_gain=0.0,\n",
              "               n_estimators=50, n_jobs=-1, num_leaves=31, objective=None,\n",
              "               oob_score=False, random_state=None, reg_alpha=0.0,\n",
              "               reg_lambda=0.0, silent=True, subsample=1.0,\n",
              "               subsample_for_bin=200000, subsample_freq=0)"
            ]
          },
          "metadata": {
            "tags": []
          },
          "execution_count": 38
        }
      ]
    },
    {
      "cell_type": "code",
      "metadata": {
        "id": "N1ZTpfXEPBHf",
        "outputId": "e6304a1d-411b-4261-8037-4f7479122e5c",
        "colab": {
          "base_uri": "https://localhost:8080/",
          "height": 141
        }
      },
      "source": [
        "clf = lgb.LGBMClassifier(boosting_type='gbdt', class_weight=None, colsample_bytree=1.0,\n",
        "               importance_type='split', learning_rate=0.1, max_depth=3,\n",
        "               min_child_samples=20, min_child_weight=0.001, min_split_gain=0.0,\n",
        "               n_estimators=50, n_jobs=-1, num_leaves=31, objective=None,\n",
        "               oob_score=False, random_state=None, reg_alpha=0.0,\n",
        "               reg_lambda=0.0, silent=True, subsample=1.0,\n",
        "               subsample_for_bin=200000, subsample_freq=0)\n",
        "\n",
        "clf.fit(X_train, y_train)"
      ],
      "execution_count": null,
      "outputs": [
        {
          "output_type": "execute_result",
          "data": {
            "text/plain": [
              "LGBMClassifier(boosting_type='gbdt', class_weight=None, colsample_bytree=1.0,\n",
              "               importance_type='split', learning_rate=0.1, max_depth=3,\n",
              "               min_child_samples=20, min_child_weight=0.001, min_split_gain=0.0,\n",
              "               n_estimators=50, n_jobs=-1, num_leaves=31, objective=None,\n",
              "               oob_score=False, random_state=None, reg_alpha=0.0,\n",
              "               reg_lambda=0.0, silent=True, subsample=1.0,\n",
              "               subsample_for_bin=200000, subsample_freq=0)"
            ]
          },
          "metadata": {
            "tags": []
          },
          "execution_count": 41
        }
      ]
    },
    {
      "cell_type": "code",
      "metadata": {
        "id": "jpxCKLzyPMFJ"
      },
      "source": [
        "prediction = clf.predict_proba(test)[:, 1]"
      ],
      "execution_count": null,
      "outputs": []
    },
    {
      "cell_type": "code",
      "metadata": {
        "id": "sM_XuoOyPc70"
      },
      "source": [
        "sample_sub.default_status = prediction\n",
        "sample_sub.to_csv(\"sub5.csv\", index = False)"
      ],
      "execution_count": null,
      "outputs": []
    },
    {
      "cell_type": "code",
      "metadata": {
        "id": "kZhU5gOPPtKs"
      },
      "source": [
        ""
      ],
      "execution_count": null,
      "outputs": []
    }
  ]
}